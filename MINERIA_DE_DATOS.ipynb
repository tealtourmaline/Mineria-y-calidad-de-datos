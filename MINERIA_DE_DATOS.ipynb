{
  "nbformat": 4,
  "nbformat_minor": 0,
  "metadata": {
    "colab": {
      "provenance": [],
      "authorship_tag": "ABX9TyPnHY6a/crHsGqn1VpZdNAM",
      "include_colab_link": true
    },
    "kernelspec": {
      "name": "python3",
      "display_name": "Python 3"
    },
    "language_info": {
      "name": "python"
    }
  },
  "cells": [
    {
      "cell_type": "markdown",
      "metadata": {
        "id": "view-in-github",
        "colab_type": "text"
      },
      "source": [
        "<a href=\"https://colab.research.google.com/github/tealtourmaline/Mineria-y-calidad-de-datos/blob/main/MINERIA_DE_DATOS.ipynb\" target=\"_parent\"><img src=\"https://colab.research.google.com/assets/colab-badge.svg\" alt=\"Open In Colab\"/></a>"
      ]
    },
    {
      "cell_type": "markdown",
      "source": [
        "# Hiperparametrizacion para Clasificación: ResultadosSaber11\n",
        "\n",
        "1. Preparación de Datos\n",
        "2. División de los Datos\n",
        "3. Hiperparametrización con el 70%\n",
        "4. Evaluación del mejor Modelo con el 30%\n",
        "5. Guardar el Modelo\n",
        "\n"
      ],
      "metadata": {
        "id": "-mBQvRMivnQH"
      }
    },
    {
      "cell_type": "code",
      "execution_count": 1,
      "metadata": {
        "id": "etL8864qEXfI"
      },
      "outputs": [],
      "source": [
        "#Cargamos librerías principales\n",
        "import numpy as np\n",
        "import pandas as pd\n",
        "import matplotlib.pyplot as plt"
      ]
    },
    {
      "cell_type": "code",
      "source": [
        "# Se cargan los datos\n",
        "data= pd.read_excel(\"ResultadosSaberLimpios.xlsx\",sheet_name=0)\n",
        "data.head()"
      ],
      "metadata": {
        "id": "ZsAckK4YE9Ks"
      },
      "execution_count": null,
      "outputs": []
    },
    {
      "cell_type": "code",
      "source": [
        "data.info()"
      ],
      "metadata": {
        "id": "onRDn_fsFMjq"
      },
      "execution_count": null,
      "outputs": []
    },
    {
      "cell_type": "code",
      "source": [
        "#Corrección del tipo de datos object a categorías\n",
        "#data['Casado']=data['Casado'].astype('category')"
      ],
      "metadata": {
        "id": "yhGT48W8FRTN"
      },
      "execution_count": null,
      "outputs": []
    },
    {
      "cell_type": "code",
      "source": [
        "#Instalar pandas profiling\n",
        "!pip install ydata-profiling"
      ],
      "metadata": {
        "id": "MVWiQSwwBUnI"
      },
      "execution_count": null,
      "outputs": []
    },
    {
      "cell_type": "code",
      "source": [
        "# Cargar librería para Profiling\n",
        "from ydata_profiling import ProfileReport\n",
        "\n",
        "profile_data=ProfileReport(data, minimal=False) # minimal=True\n",
        "profile_data"
      ],
      "metadata": {
        "id": "ZxnKhp-WFZxy"
      },
      "execution_count": null,
      "outputs": []
    },
    {
      "cell_type": "code",
      "source": [
        "#Guardamos en html el perfilado de datos\n",
        "profile_data.to_file(output_file=\"output.html\")"
      ],
      "metadata": {
        "id": "LkRe64LPBZou"
      },
      "execution_count": null,
      "outputs": []
    },
    {
      "cell_type": "code",
      "source": [
        "#Sklearn sólo analiza variables numéricas\n",
        "data = pd.get_dummies(data, columns=['Clima'], drop_first=False, dtype=int)\n",
        "data.head()"
      ],
      "metadata": {
        "id": "i9QEGRlQF495"
      },
      "execution_count": null,
      "outputs": []
    },
    {
      "cell_type": "code",
      "source": [
        "#Se codifican las categorias de la VARIABLE OBJETIVO\n",
        "\n",
        "from sklearn.preprocessing import LabelEncoder\n",
        "labelencoder = LabelEncoder()\n",
        "data[\"Alerta\"]=labelencoder.fit_transform(data[\"Alerta\"])\n",
        "\n",
        "data.head()"
      ],
      "metadata": {
        "id": "GiYqV7P7F7TJ"
      },
      "execution_count": null,
      "outputs": []
    },
    {
      "cell_type": "code",
      "source": [
        "#División 70-30\n",
        "from sklearn.model_selection import train_test_split\n",
        "X = data.drop(\"Alerta\", axis = 1) # Variables predictoras\n",
        "Y = data['Alerta'] #Variable objetivo\n",
        "X_train, X_test, Y_train, Y_test = train_test_split(X, Y, test_size=0.3, stratify=Y) #Muestreo estratificado\n",
        "Y_train.value_counts().plot(kind='bar')"
      ],
      "metadata": {
        "id": "XPLVllhTF90B"
      },
      "execution_count": null,
      "outputs": []
    },
    {
      "cell_type": "markdown",
      "source": [
        "#3. Hiperparametrización"
      ],
      "metadata": {
        "id": "ydjtV1oOGBDw"
      }
    },
    {
      "cell_type": "code",
      "source": [
        "#Medida de evaluación del mejor modelo\n",
        "medidas= pd.DataFrame(index=['f1 de la CV'])"
      ],
      "metadata": {
        "id": "xDcxKX7MGDQw"
      },
      "execution_count": null,
      "outputs": []
    }
  ]
}