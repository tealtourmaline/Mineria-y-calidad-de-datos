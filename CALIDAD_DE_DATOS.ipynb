{
  "nbformat": 4,
  "nbformat_minor": 0,
  "metadata": {
    "colab": {
      "provenance": [],
      "authorship_tag": "ABX9TyM5bcZbXrMmfUlgh/6RpQlD",
      "include_colab_link": true
    },
    "kernelspec": {
      "name": "python3",
      "display_name": "Python 3"
    },
    "language_info": {
      "name": "python"
    }
  },
  "cells": [
    {
      "cell_type": "markdown",
      "metadata": {
        "id": "view-in-github",
        "colab_type": "text"
      },
      "source": [
        "<a href=\"https://colab.research.google.com/github/tealtourmaline/Mineria-y-calidad-de-datos/blob/main/CALIDAD_DE_DATOS.ipynb\" target=\"_parent\"><img src=\"https://colab.research.google.com/assets/colab-badge.svg\" alt=\"Open In Colab\"/></a>"
      ]
    },
    {
      "cell_type": "markdown",
      "source": [
        "# **A. PERFILADO DE DATOS**"
      ],
      "metadata": {
        "id": "8pw5QwRG4oCs"
      }
    },
    {
      "cell_type": "code",
      "execution_count": 1,
      "metadata": {
        "id": "FXPJvjlQ28rM"
      },
      "outputs": [],
      "source": [
        "#Importamos librerías básicas\n",
        "import pandas as pd # manipulacion dataframes\n",
        "import numpy as np  # matrices y vectores\n",
        "import matplotlib.pyplot as plt #gráfica\n"
      ]
    }
  ]
}