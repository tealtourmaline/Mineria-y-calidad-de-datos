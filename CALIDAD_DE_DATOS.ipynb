{
  "nbformat": 4,
  "nbformat_minor": 0,
  "metadata": {
    "colab": {
      "provenance": [],
      "include_colab_link": true
    },
    "kernelspec": {
      "name": "python3",
      "display_name": "Python 3"
    },
    "language_info": {
      "name": "python"
    }
  },
  "cells": [
    {
      "cell_type": "markdown",
      "metadata": {
        "id": "view-in-github",
        "colab_type": "text"
      },
      "source": [
        "<a href=\"https://colab.research.google.com/github/tealtourmaline/Mineria-y-calidad-de-datos/blob/main/CALIDAD_DE_DATOS.ipynb\" target=\"_parent\"><img src=\"https://colab.research.google.com/assets/colab-badge.svg\" alt=\"Open In Colab\"/></a>"
      ]
    },
    {
      "cell_type": "markdown",
      "source": [
        "# **A. PERFILADO DE DATOS**"
      ],
      "metadata": {
        "id": "8pw5QwRG4oCs"
      }
    },
    {
      "cell_type": "code",
      "execution_count": null,
      "metadata": {
        "id": "FXPJvjlQ28rM"
      },
      "outputs": [],
      "source": [
        "#Importamos librerías básicas\n",
        "import pandas as pd # manipulacion dataframes\n",
        "import numpy as np  # matrices y vectores\n",
        "import matplotlib.pyplot as plt #gráfica"
      ]
    },
    {
      "cell_type": "code",
      "source": [
        "# Se cargan los datos\n",
        "data= pd.read_excel(\"resultados_saber_11.xlsx\",sheet_name=0)\n",
        "data.head()"
      ],
      "metadata": {
        "id": "M-KnCrmw47pE"
      },
      "execution_count": null,
      "outputs": []
    },
    {
      "cell_type": "code",
      "source": [
        "data.info()"
      ],
      "metadata": {
        "id": "zdFwkSAOAwPy"
      },
      "execution_count": null,
      "outputs": []
    },
    {
      "cell_type": "code",
      "source": [
        "#Corrección del tipo de datos object a categorías\n",
        "#data['Casado']=data['Casado'].astype('category')"
      ],
      "metadata": {
        "id": "yI-YSNa4BFC4"
      },
      "execution_count": null,
      "outputs": []
    },
    {
      "cell_type": "code",
      "source": [
        "#Instalar pandas profiling\n",
        "!pip install ydata-profiling"
      ],
      "metadata": {
        "id": "MVWiQSwwBUnI"
      },
      "execution_count": null,
      "outputs": []
    },
    {
      "cell_type": "code",
      "source": [
        "# Cargar librería para Profiling\n",
        "from ydata_profiling import ProfileReport\n",
        "\n",
        "profile_data=ProfileReport(data, minimal=False) # minimal=True\n",
        "profile_data"
      ],
      "metadata": {
        "id": "LPECjt9WBXQG"
      },
      "execution_count": null,
      "outputs": []
    },
    {
      "cell_type": "code",
      "source": [
        "#Guardamos en html el perfilado de datos\n",
        "profile_data.to_file(output_file=\"output.html\")"
      ],
      "metadata": {
        "id": "LkRe64LPBZou"
      },
      "execution_count": null,
      "outputs": []
    },
    {
      "cell_type": "markdown",
      "source": [
        "# **Dimensiones de la Calidad de Datos**\n",
        "\n",
        "**Completitud:** ¿Está toda la información disponible? ¿Hay datos faltantes o ausentes?\n",
        "\n",
        "**Exactitud:**¿La información es correcta y libre de error?\n",
        "\n",
        "**Conformidad:** ¿Los valores de los datos están conformes con los formatos esperados? Ejemplo: Una fecha en formato AAAA/MM/DD cuando debería ser DD/MM/AAAA.\n",
        "\n",
        "**Oportunidad:** ¿La información llega cuando se necesita?\n",
        "\n",
        "**Duplicidad:** ¿Existen múltiples instancias, innecesarias de los mismos objetos de datos en el conjunto de datos?\n",
        "\n",
        "**Integridad:** ¿Faltan datos relacionados importantes? ¿Es clara la conectividad y las relaciones con otros datos?"
      ],
      "metadata": {
        "id": "d1R1NsjBBdsb"
      }
    },
    {
      "cell_type": "markdown",
      "source": [
        "# **Diagnóstico de las dimensiones según el perfilado:**\n",
        "* Completitud:  existen missing en carro, antiguedad\n",
        "* Exactitud: Incapacidades tiene un valor atipico (400)\n",
        "* Conformidad:\n",
        "* Oportunidad:\n",
        "* Duplicidad: en id hay un valor doble (48)\n",
        "* Integridad:"
      ],
      "metadata": {
        "id": "ALqs12ksBgaD"
      }
    },
    {
      "cell_type": "markdown",
      "metadata": {
        "id": "BYZvsWCsLaNh"
      },
      "source": [
        "# **B. LIMPIEZA  DE LOS DATOS**\n",
        "1. Detección de duplicados\n",
        "2. Selección de datos\n",
        "3. Limpieza de atípicos\n",
        "4. Limpieza de nulos\n",
        "\n"
      ]
    },
    {
      "cell_type": "markdown",
      "source": [
        "**1. Detección de duplicados**"
      ],
      "metadata": {
        "id": "TCVyns7KAFLz"
      }
    },
    {
      "cell_type": "code",
      "source": [
        "#Sólo dejamos el id mas reciente\n",
        "#data.drop_duplicates(subset=['ID'], keep='last', inplace=True)\n",
        "#data=data.drop_duplicates(subset=['ID'], keep='last')"
      ],
      "metadata": {
        "id": "mK63fERkByKg"
      },
      "execution_count": null,
      "outputs": []
    },
    {
      "cell_type": "markdown",
      "source": [
        "**2. Selección de Datos**"
      ],
      "metadata": {
        "id": "An044rarB12o"
      }
    },
    {
      "cell_type": "code",
      "source": [
        "# Variables irrelevantes para el proceso de minería\n",
        "#data = data.drop('ID',axis=1) #Eliminamos el ID por ser irrelevante, axis=1 indica que es una columna\n",
        "#data.head()"
      ],
      "metadata": {
        "id": "t0kGYAnLB2Op"
      },
      "execution_count": null,
      "outputs": []
    },
    {
      "cell_type": "markdown",
      "source": [
        "**3. Limpieza de datos atípicos: se asigna nulo**"
      ],
      "metadata": {
        "id": "vuGrFmKHB_e3"
      }
    },
    {
      "cell_type": "code",
      "source": [
        "#Se asigna valor nulo a los atípicos\n",
        "#data.Incapacidades[data[\"Incapacidades\"]>365]=np.nan #Nulo\n",
        "#data.info()"
      ],
      "metadata": {
        "id": "sY0W3IomCABX"
      },
      "execution_count": null,
      "outputs": []
    },
    {
      "cell_type": "markdown",
      "source": [
        "**4. Limpieza de datos nulos: Imputación**"
      ],
      "metadata": {
        "id": "x0Izf7zcCEU2"
      }
    },
    {
      "cell_type": "code",
      "source": [
        "#Limpieza de datos nulos: Imputación por la media y moda\n",
        "from sklearn.impute import SimpleImputer\n",
        "\n",
        "#Imputacion de variables numéricas: media\n",
        "#ImpNumeros = SimpleImputer(missing_values=np.nan, strategy='mean')\n",
        "#data[['Incapacidades', 'Antiguedad']] = ImpNumeros.fit_transform(data[['Incapacidades', 'Antiguedad']])\n",
        "\n",
        "#Imputacion de variables categóricas: moda\n",
        "#ImpCategorias = SimpleImputer(missing_values=np.nan, strategy='most_frequent')\n",
        "#data[['Carro']] = ImpCategorias.fit_transform(data[['Carro']])\n",
        "\n",
        "data.info()"
      ],
      "metadata": {
        "id": "oXFQYYq1CGPU"
      },
      "execution_count": null,
      "outputs": []
    },
    {
      "cell_type": "code",
      "metadata": {
        "colab": {
          "base_uri": "https://localhost:8080/"
        },
        "id": "kaOeKJDYhm7T",
        "outputId": "356f1f35-5eae-4076-ab88-4468c01e54d9"
      },
      "source": [
        "#Valores de la imputación\n",
        "print(ImpNumeros.statistics_)\n",
        "print(ImpCategorias.statistics_)"
      ],
      "execution_count": null,
      "outputs": [
        {
          "output_type": "stream",
          "name": "stdout",
          "text": [
            "[5.25998143 8.18494424]\n",
            "['Sí']\n"
          ]
        }
      ]
    },
    {
      "cell_type": "markdown",
      "source": [
        "# **C. MEJORA DE LOS DATOS**\n"
      ],
      "metadata": {
        "id": "OtezxXXacFac"
      }
    },
    {
      "cell_type": "markdown",
      "source": [
        "**1. Análisis de correlaciones**"
      ],
      "metadata": {
        "id": "J8ns22yCCZKl"
      }
    },
    {
      "cell_type": "code",
      "source": [
        "#Correlaciones: variables numéricas\n",
        "data.corr()"
      ],
      "metadata": {
        "id": "ddedjtzfCYpK"
      },
      "execution_count": null,
      "outputs": []
    },
    {
      "cell_type": "code",
      "source": [
        "# Todas las variables deben ser numéricas para calcular las correlaciones\n",
        "# Se crean dummies para las variables categóricas\n",
        "\n",
        "#data_num = pd.get_dummies(data, drop_first=True, dtype=int)\n",
        "#data_num.head()"
      ],
      "metadata": {
        "id": "pLu7JypdCck9"
      },
      "execution_count": null,
      "outputs": []
    },
    {
      "cell_type": "code",
      "source": [
        "#Correlaciones\n",
        "data_num.corr()"
      ],
      "metadata": {
        "id": "iU_2KQMeCeCT"
      },
      "execution_count": null,
      "outputs": []
    },
    {
      "cell_type": "code",
      "source": [
        "import seaborn as sns\n",
        "plt.figure(figsize=(10,10))\n",
        "sns.heatmap(data_num.corr(),annot=True)"
      ],
      "metadata": {
        "id": "FyqnR3SyCm2q"
      },
      "execution_count": null,
      "outputs": []
    },
    {
      "cell_type": "markdown",
      "source": [
        "Redundancias: correlaciones mayores a 0.8 en  la matriz\n",
        "Irrelevancia: correlaciones muy bajas con la variable objetivo (menor a 0.05)"
      ],
      "metadata": {
        "id": "RL1B4EmCCpCR"
      }
    },
    {
      "cell_type": "code",
      "source": [
        "#Elimino\n",
        "\n",
        "#data = data.drop('Antiguedad',axis=1) #Eliminamos el ID por ser irrelevante, axis=1 indica que es una columna\n",
        "data.head()"
      ],
      "metadata": {
        "id": "_38kQgJaCtNn"
      },
      "execution_count": null,
      "outputs": []
    },
    {
      "cell_type": "markdown",
      "source": [
        "**2. Balanceo de datos (Clasificación)**"
      ],
      "metadata": {
        "id": "mByErTvLC0EY"
      }
    },
    {
      "cell_type": "code",
      "source": [
        "data.info()"
      ],
      "metadata": {
        "id": "SmQLQJeCC3vh"
      },
      "execution_count": null,
      "outputs": []
    },
    {
      "cell_type": "code",
      "source": [
        "from imblearn.over_sampling import SMOTE, SMOTENC\n",
        "\n",
        "#sm = SMOTE( k_neighbors=2) para variables predictoras numéricas\n",
        "#sm = SMOTENC(categorical_features=[], k_neighbors=2) para variables predictoras categóricas\n",
        "\n",
        "#sm = SMOTENC(categorical_features=[0,1,3,4], k_neighbors=2) #se indican las variables predictoras categoricas\n",
        "#X= data.drop('Fuga', axis=1) #Predictoras\n",
        "#Y= data['Fuga'] #Objetivo\n",
        "#X_bal, Y_bal = sm.fit_resample(X,Y) #X= variables predictoras Y=variable objetivo"
      ],
      "metadata": {
        "id": "Aiw2pdNPC73u"
      },
      "execution_count": null,
      "outputs": []
    },
    {
      "cell_type": "code",
      "source": [
        "# Creamos un dataframe con los resultados\n",
        "data  = pd.DataFrame(columns=X.columns.values, data=X_bal)\n",
        "#data['Fuga']=Y_bal\n",
        "#data['Fuga'].value_counts().plot(kind='bar')"
      ],
      "metadata": {
        "id": "W5RR3cLXC-7S"
      },
      "execution_count": null,
      "outputs": []
    },
    {
      "cell_type": "code",
      "source": [
        "#Guardamos los datos preparados\n",
        "data_num.to_excel('./ResultadosSaberLimpios.xlsx')"
      ],
      "metadata": {
        "id": "mYN9zf7UDI5Q"
      },
      "execution_count": null,
      "outputs": []
    }
  ]
}